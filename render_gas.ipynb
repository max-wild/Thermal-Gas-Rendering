{
  "nbformat": 4,
  "nbformat_minor": 0,
  "metadata": {
    "colab": {
      "name": "render_gas.ipynb",
      "provenance": [],
      "collapsed_sections": []
    },
    "kernelspec": {
      "name": "python3",
      "display_name": "Python 3"
    },
    "language_info": {
      "name": "python"
    },
    "accelerator": "GPU",
    "gpuClass": "standard"
  },
  "cells": [
    {
      "cell_type": "markdown",
      "source": [
        "\n",
        "# Setting Up the Render\n",
        "\n",
        "Change these variables depending on what you need:\n",
        "*   `out_dir` determines the google drive directory for where the renders will be saved \n",
        "*   `total_renders` determines how many gas images will be made\n",
        "\n",
        "<br>\n",
        "\n",
        "When running, Colab will prompt you to connect to google drive. To save the renders into an drive account, accept that."
      ],
      "metadata": {
        "id": "ASU5bBwR3eMs"
      }
    },
    {
      "cell_type": "code",
      "source": [
        "out_dir = '/content/drive/MyDrive/gas_renders/'  # See above\n",
        "total_renders = 16 \n",
        "\n",
        "from google.colab import drive\n",
        "drive.mount('/content/drive')\n",
        "\n",
        "# Asserting the GPU is enabled\n",
        "import tensorflow as tf\n",
        "assert(tf.test.gpu_device_name() == '/device:GPU:0')"
      ],
      "metadata": {
        "id": "VBfKMR8W8GM1"
      },
      "execution_count": null,
      "outputs": []
    },
    {
      "cell_type": "code",
      "source": [
        "# Fix for a known bug when using blender with colab\n",
        "import os\n",
        "\n",
        "os.environ[\"LD_PRELOAD\"] = \"\"\n",
        "\n",
        "!apt remove libtcmalloc-minimal4\n",
        "!apt install libtcmalloc-minimal4\n",
        "\n",
        "os.environ[\"LD_PRELOAD\"] = \"/usr/lib/x86_64-linux-gnu/libtcmalloc_minimal.so.4.3.0\"\n",
        "!apt install libboost-all-dev\n",
        "!apt install libgl1-mesa-dev \n",
        "!apt install libglu1-mesa libsm-dev"
      ],
      "metadata": {
        "id": "RF2mLlXi91-C"
      },
      "execution_count": null,
      "outputs": []
    },
    {
      "cell_type": "markdown",
      "source": [
        "Installing Blender:"
      ],
      "metadata": {
        "id": "sRQjjemcN7tA"
      }
    },
    {
      "cell_type": "code",
      "execution_count": null,
      "metadata": {
        "id": "xO01eJsX36Kt"
      },
      "outputs": [],
      "source": [
        "%%shell\n",
        "\n",
        "BLEND_DIR=\"/blender-3.2.2-linux-x64/\"\n",
        "\n",
        "# Download blender zip \n",
        "if [ ! -f \"blender-3.2.2-linux-x64.tar.xz\" ]; then\n",
        "  wget -nc https://download.blender.org/release/Blender3.2/blender-3.2.2-linux-x64.tar.xz\n",
        "fi\n",
        "\n",
        "# If the blend tar hasn't been unzipped, then unzip it\n",
        "[ ! -d \"$BLEND_DIR\" ] && tar -xf blender-3.2.2-linux-x64.tar.xz"
      ]
    },
    {
      "cell_type": "markdown",
      "source": [
        "Collecting necessary files:"
      ],
      "metadata": {
        "id": "ZA0l1zWZN981"
      }
    },
    {
      "cell_type": "code",
      "source": [
        "!mkdir setup\n",
        "%cd setup \n",
        "\n",
        "!wget https://github.com/max-wild/gas_rendering/raw/main/gas_scene.blend\n",
        "!wget https://github.com/max-wild/gas_rendering/raw/main/render_images.py\n",
        "\n",
        "%cd .."
      ],
      "metadata": {
        "id": "EOh93Ol9LOO0"
      },
      "execution_count": null,
      "outputs": []
    },
    {
      "cell_type": "markdown",
      "source": [
        "The block below will generate thermal gas images:"
      ],
      "metadata": {
        "id": "0Mu5uxXRNz7N"
      }
    },
    {
      "cell_type": "code",
      "source": [
        "from math import ceil\n",
        "blend_dir = '/content/blender-3.2.2-linux-x64/blender'\n",
        "four_renders = ceil(total_renders / 4)  # How many times 4 gas images are generated \n",
        "\n",
        "# Shell command to render gas images\n",
        "!{blend_dir} setup/gas_scene.blend --background --python setup/render_images.py -- -o {out_dir} -r {four_renders}"
      ],
      "metadata": {
        "id": "J-FyoI824LcU"
      },
      "execution_count": null,
      "outputs": []
    }
  ]
}